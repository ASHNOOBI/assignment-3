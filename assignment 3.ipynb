{
 "cells": [
  {
   "cell_type": "markdown",
   "id": "73e32563",
   "metadata": {},
   "source": [
    "#  assignment 3"
   ]
  },
  {
   "cell_type": "code",
   "execution_count": 1,
   "id": "b0d89dfe",
   "metadata": {},
   "outputs": [],
   "source": [
    "#1 ans-functions have advantage in codes because once u make a function for getting  particular result then u can use \n",
    "# that function again and again to get that particular result without writing the whole code"
   ]
  },
  {
   "cell_type": "code",
   "execution_count": 2,
   "id": "320b39ac",
   "metadata": {},
   "outputs": [],
   "source": [
    "#2 ans -when it is called\n"
   ]
  },
  {
   "cell_type": "code",
   "execution_count": 3,
   "id": "c88fecc2",
   "metadata": {},
   "outputs": [],
   "source": [
    "# 3ans , we can make function using the keyword \"def\"."
   ]
  },
  {
   "cell_type": "code",
   "execution_count": 4,
   "id": "1af1756e",
   "metadata": {},
   "outputs": [],
   "source": [
    "#4 ans - function is is name of block of code , while function call is calling that block of ode by using name of function"
   ]
  },
  {
   "cell_type": "code",
   "execution_count": 5,
   "id": "a0be6a77",
   "metadata": {},
   "outputs": [],
   "source": [
    "#5 ans two and one"
   ]
  },
  {
   "cell_type": "code",
   "execution_count": null,
   "id": "e8820c1f",
   "metadata": {},
   "outputs": [],
   "source": [
    "#6 after function call returns the function calls the local variable instead of global variable"
   ]
  },
  {
   "cell_type": "code",
   "execution_count": 6,
   "id": "6fb2351b",
   "metadata": {},
   "outputs": [],
   "source": [
    "#7 , return means whenever u call your function in your code , the function will return something to you ,yes it is possible to return in expression"
   ]
  },
  {
   "cell_type": "code",
   "execution_count": 7,
   "id": "3289b5ba",
   "metadata": {},
   "outputs": [],
   "source": [
    "# 8 ans every function u make in python is suppose to have return or print statement"
   ]
  },
  {
   "cell_type": "code",
   "execution_count": 8,
   "id": "8edcba1d",
   "metadata": {},
   "outputs": [],
   "source": [
    "#9ans we can do that by using the keyword \"global variale name\""
   ]
  },
  {
   "cell_type": "code",
   "execution_count": 9,
   "id": "544e6adb",
   "metadata": {},
   "outputs": [],
   "source": [
    "#10 nonetype"
   ]
  },
  {
   "cell_type": "code",
   "execution_count": 11,
   "id": "3f28b7a3",
   "metadata": {},
   "outputs": [],
   "source": [
    "#11 nothing, error will occur"
   ]
  },
  {
   "cell_type": "code",
   "execution_count": 12,
   "id": "9185b580",
   "metadata": {},
   "outputs": [],
   "source": [
    "#12ans \n"
   ]
  },
  {
   "cell_type": "code",
   "execution_count": 13,
   "id": "487c55c4",
   "metadata": {},
   "outputs": [],
   "source": [
    "#13ans we can use try and except methods \n"
   ]
  },
  {
   "cell_type": "code",
   "execution_count": null,
   "id": "1a976b81",
   "metadata": {},
   "outputs": [],
   "source": [
    "#14ans try and except is used when we have dobut in our code , that error may occur , so we write code in try and except so that \n",
    "\n",
    "# one correct is executed"
   ]
  }
 ],
 "metadata": {
  "kernelspec": {
   "display_name": "Python 3 (ipykernel)",
   "language": "python",
   "name": "python3"
  },
  "language_info": {
   "codemirror_mode": {
    "name": "ipython",
    "version": 3
   },
   "file_extension": ".py",
   "mimetype": "text/x-python",
   "name": "python",
   "nbconvert_exporter": "python",
   "pygments_lexer": "ipython3",
   "version": "3.9.7"
  }
 },
 "nbformat": 4,
 "nbformat_minor": 5
}
